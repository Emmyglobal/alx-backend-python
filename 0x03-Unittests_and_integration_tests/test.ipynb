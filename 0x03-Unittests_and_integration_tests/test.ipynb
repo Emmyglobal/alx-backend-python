{
 "cells": [
  {
   "cell_type": "code",
   "execution_count": 2,
   "metadata": {},
   "outputs": [],
   "source": [
    "from functools import wraps\n",
    "from typing import Callable\n",
    "\n",
    "\n",
    "def memoize(function:Callable)-> Callable:\n",
    "    \"\"\"exponentially speed up recursive functions\"\"\"\n",
    "    cache = {}\n",
    "    @wraps(function)\n",
    "    def wrapper(*args, **kwargs):\n",
    "        key = function.__name__ + str(args) + str(kwargs)\n",
    "        if key not in cache:\n",
    "            cache[key] = function(*args,**kwargs)\n",
    "        print(cache)\n",
    "        return cache[key]\n",
    "    return wrapper"
   ]
  },
  {
   "cell_type": "code",
   "execution_count": 3,
   "metadata": {},
   "outputs": [],
   "source": [
    "@memoize\n",
    "def fibonacci(num):\n",
    "    if isinstance(num, int) and num > 1:\n",
    "        return fibonacci(num-1) + fibonacci(num-2)\n",
    "    return 1"
   ]
  },
  {
   "cell_type": "code",
   "execution_count": 32,
   "metadata": {},
   "outputs": [
    {
     "name": "stdout",
     "output_type": "stream",
     "text": [
      "24157817\n",
      "14.630897956999434\n"
     ]
    }
   ],
   "source": [
    "from time import perf_counter\n",
    "\n",
    "start = perf_counter()\n",
    "print(fibonacci(36))\n",
    "end = perf_counter()\n",
    "total = end - start\n",
    "print(total)"
   ]
  },
  {
   "cell_type": "code",
   "execution_count": null,
   "metadata": {},
   "outputs": [],
   "source": [
    "from time import perf_counter\n",
    "import sys\n",
    "\n",
    "sys.setrecursionlimit = 10000\n",
    "start = perf_counter()\n",
    "print(fibonacci(10))\n",
    "end = perf_counter()\n",
    "total = end - start\n",
    "print(total)"
   ]
  },
  {
   "cell_type": "code",
   "execution_count": 26,
   "metadata": {},
   "outputs": [],
   "source": [
    "def memoize(fn: Callable) -> Callable:\n",
    "    \"\"\"Decorator to memoize a method.\n",
    "    Example\n",
    "    -------\n",
    "    class MyClass:\n",
    "        @memoize\n",
    "        def a_method(self):\n",
    "            print(\"a_method called\")\n",
    "            return 42\n",
    "    >>> my_object = MyClass()\n",
    "    >>> my_object.a_method\n",
    "    a_method called\n",
    "    42\n",
    "    >>> my_object.a_method\n",
    "    42\n",
    "    \"\"\"\n",
    "    attr_name = \"_{}\".format(fn.__name__)\n",
    "\n",
    "    @wraps(fn)\n",
    "    def memoized(self):\n",
    "        \"\"\"\"memoized wraps\"\"\"\n",
    "        if not hasattr(self, attr_name):\n",
    "            setattr(self, attr_name, fn(self))\n",
    "        print(attr_name)\n",
    "        return getattr(self, attr_name)\n",
    "\n",
    "    return property(memoized)"
   ]
  },
  {
   "cell_type": "code",
   "execution_count": 27,
   "metadata": {},
   "outputs": [],
   "source": [
    "class TestClass:\n",
    "\n",
    "    def a_method(self):\n",
    "        return 42\n",
    "\n",
    "    @memoize\n",
    "    def a_property(self):\n",
    "        return self.a_method()\n",
    "\n"
   ]
  },
  {
   "cell_type": "code",
   "execution_count": 28,
   "metadata": {},
   "outputs": [
    {
     "name": "stdout",
     "output_type": "stream",
     "text": [
      "_a_property\n",
      "42\n",
      "0.0002704189992073225\n"
     ]
    }
   ],
   "source": [
    "start = perf_counter()\n",
    "\n",
    "end = perf_counter()\n",
    "total = end - start\n",
    "print(val)\n",
    "print(total)"
   ]
  }
 ],
 "metadata": {
  "kernelspec": {
   "display_name": "Python 3.8.16 64-bit",
   "language": "python",
   "name": "python3"
  },
  "language_info": {
   "codemirror_mode": {
    "name": "ipython",
    "version": 3
   },
   "file_extension": ".py",
   "mimetype": "text/x-python",
   "name": "python",
   "nbconvert_exporter": "python",
   "pygments_lexer": "ipython3",
   "version": "3.8.16"
  },
  "orig_nbformat": 4,
  "vscode": {
   "interpreter": {
    "hash": "5b3ded1ccb95c1d9bd405e7b823d9e85424cde40fbb5985eb47e999ef50e15b4"
   }
  }
 },
 "nbformat": 4,
 "nbformat_minor": 2
}
